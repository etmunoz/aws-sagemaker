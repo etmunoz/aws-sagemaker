{
 "cells": [
  {
   "cell_type": "code",
   "execution_count": null,
   "metadata": {},
   "outputs": [],
   "source": [
    "#see: https://gitlab.com/juliensimon/dlnotebooks\n"
   ]
  },
  {
   "cell_type": "code",
   "execution_count": 2,
   "metadata": {},
   "outputs": [
    {
     "name": "stdout",
     "output_type": "stream",
     "text": [
      "--2020-07-09 19:14:51--  https://gitlab.com/juliensimon/dlnotebooks/-/raw/master/keras/03-fashion-mnist-sagemaker/Fashion%20MNIST-SageMaker.ipynb\n",
      "Resolving gitlab.com (gitlab.com)... 172.65.251.78, 2606:4700:90:0:f22e:fbec:5bed:a9b9\n",
      "Connecting to gitlab.com (gitlab.com)|172.65.251.78|:443... connected.\n",
      "HTTP request sent, awaiting response... 200 OK\n",
      "Length: unspecified [text/plain]\n",
      "Saving to: ‘Fashion MNIST-SageMaker.ipynb’\n",
      "\n",
      "Fashion MNIST-SageM     [ <=>                ]  10.36K  --.-KB/s    in 0s      \n",
      "\n",
      "2020-07-09 19:14:52 (71.3 MB/s) - ‘Fashion MNIST-SageMaker.ipynb’ saved [10606]\n",
      "\n"
     ]
    }
   ],
   "source": [
    "!wget https://gitlab.com/juliensimon/dlnotebooks/-/raw/master/keras/03-fashion-mnist-sagemaker/Fashion%20MNIST-SageMaker.ipynb"
   ]
  }
 ],
 "metadata": {
  "kernelspec": {
   "display_name": "conda_amazonei_tensorflow2_p36",
   "language": "python",
   "name": "conda_amazonei_tensorflow2_p36"
  },
  "language_info": {
   "codemirror_mode": {
    "name": "ipython",
    "version": 3
   },
   "file_extension": ".py",
   "mimetype": "text/x-python",
   "name": "python",
   "nbconvert_exporter": "python",
   "pygments_lexer": "ipython3",
   "version": "3.6.10"
  }
 },
 "nbformat": 4,
 "nbformat_minor": 4
}
