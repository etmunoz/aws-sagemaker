{
 "cells": [
  {
   "cell_type": "markdown",
   "metadata": {},
   "source": [
    "# SAGEMAKER TENSORFLOW2 GAN MNIST EXAMPLE"
   ]
  },
  {
   "cell_type": "code",
   "execution_count": null,
   "metadata": {},
   "outputs": [],
   "source": [
    "#see: https://gitlab.com/juliensimon/dlnotebooks/-/tree/master\n",
    "#see: https://gitlab.com/juliensimon/dlnotebooks/-/tree/master/keras/03-fashion-mnist-sagemaker"
   ]
  },
  {
   "cell_type": "code",
   "execution_count": 1,
   "metadata": {},
   "outputs": [
    {
     "name": "stdout",
     "output_type": "stream",
     "text": [
      "Collecting sagemaker\n",
      "  Downloading sagemaker-1.69.0.tar.gz (296 kB)\n",
      "\u001b[K     |████████████████████████████████| 296 kB 12.6 MB/s eta 0:00:01\n",
      "\u001b[?25hRequirement already satisfied, skipping upgrade: boto3>=1.14.12 in /home/ec2-user/anaconda3/envs/amazonei_tensorflow2_p36/lib/python3.6/site-packages (from sagemaker) (1.14.16)\n",
      "Requirement already satisfied, skipping upgrade: numpy>=1.9.0 in /home/ec2-user/anaconda3/envs/amazonei_tensorflow2_p36/lib/python3.6/site-packages (from sagemaker) (1.18.1)\n",
      "Requirement already satisfied, skipping upgrade: protobuf>=3.1 in /home/ec2-user/anaconda3/envs/amazonei_tensorflow2_p36/lib/python3.6/site-packages (from sagemaker) (3.12.3)\n",
      "Requirement already satisfied, skipping upgrade: scipy>=0.19.0 in /home/ec2-user/anaconda3/envs/amazonei_tensorflow2_p36/lib/python3.6/site-packages (from sagemaker) (1.4.1)\n",
      "Requirement already satisfied, skipping upgrade: protobuf3-to-dict>=0.1.5 in /home/ec2-user/anaconda3/envs/amazonei_tensorflow2_p36/lib/python3.6/site-packages (from sagemaker) (0.1.5)\n",
      "Requirement already satisfied, skipping upgrade: smdebug-rulesconfig==0.1.4 in /home/ec2-user/anaconda3/envs/amazonei_tensorflow2_p36/lib/python3.6/site-packages (from sagemaker) (0.1.4)\n",
      "Requirement already satisfied, skipping upgrade: importlib-metadata>=1.4.0 in /home/ec2-user/anaconda3/envs/amazonei_tensorflow2_p36/lib/python3.6/site-packages (from sagemaker) (1.6.1)\n",
      "Requirement already satisfied, skipping upgrade: packaging>=20.0 in /home/ec2-user/anaconda3/envs/amazonei_tensorflow2_p36/lib/python3.6/site-packages (from sagemaker) (20.4)\n",
      "Requirement already satisfied, skipping upgrade: s3transfer<0.4.0,>=0.3.0 in /home/ec2-user/anaconda3/envs/amazonei_tensorflow2_p36/lib/python3.6/site-packages (from boto3>=1.14.12->sagemaker) (0.3.3)\n",
      "Requirement already satisfied, skipping upgrade: botocore<1.18.0,>=1.17.16 in /home/ec2-user/anaconda3/envs/amazonei_tensorflow2_p36/lib/python3.6/site-packages (from boto3>=1.14.12->sagemaker) (1.17.16)\n",
      "Requirement already satisfied, skipping upgrade: jmespath<1.0.0,>=0.7.1 in /home/ec2-user/anaconda3/envs/amazonei_tensorflow2_p36/lib/python3.6/site-packages (from boto3>=1.14.12->sagemaker) (0.10.0)\n",
      "Requirement already satisfied, skipping upgrade: six>=1.9 in /home/ec2-user/anaconda3/envs/amazonei_tensorflow2_p36/lib/python3.6/site-packages (from protobuf>=3.1->sagemaker) (1.15.0)\n",
      "Requirement already satisfied, skipping upgrade: setuptools in /home/ec2-user/anaconda3/envs/amazonei_tensorflow2_p36/lib/python3.6/site-packages (from protobuf>=3.1->sagemaker) (47.3.0.post20200616)\n",
      "Requirement already satisfied, skipping upgrade: zipp>=0.5 in /home/ec2-user/anaconda3/envs/amazonei_tensorflow2_p36/lib/python3.6/site-packages (from importlib-metadata>=1.4.0->sagemaker) (3.1.0)\n",
      "Requirement already satisfied, skipping upgrade: pyparsing>=2.0.2 in /home/ec2-user/anaconda3/envs/amazonei_tensorflow2_p36/lib/python3.6/site-packages (from packaging>=20.0->sagemaker) (2.4.7)\n",
      "Requirement already satisfied, skipping upgrade: docutils<0.16,>=0.10 in /home/ec2-user/anaconda3/envs/amazonei_tensorflow2_p36/lib/python3.6/site-packages (from botocore<1.18.0,>=1.17.16->boto3>=1.14.12->sagemaker) (0.15.2)\n",
      "Requirement already satisfied, skipping upgrade: urllib3<1.26,>=1.20; python_version != \"3.4\" in /home/ec2-user/anaconda3/envs/amazonei_tensorflow2_p36/lib/python3.6/site-packages (from botocore<1.18.0,>=1.17.16->boto3>=1.14.12->sagemaker) (1.25.9)\n",
      "Requirement already satisfied, skipping upgrade: python-dateutil<3.0.0,>=2.1 in /home/ec2-user/anaconda3/envs/amazonei_tensorflow2_p36/lib/python3.6/site-packages (from botocore<1.18.0,>=1.17.16->boto3>=1.14.12->sagemaker) (2.8.1)\n",
      "Building wheels for collected packages: sagemaker\n",
      "  Building wheel for sagemaker (setup.py) ... \u001b[?25ldone\n",
      "\u001b[?25h  Created wheel for sagemaker: filename=sagemaker-1.69.0-py2.py3-none-any.whl size=384828 sha256=4cafabd3b2ae21d3f0be9fcddb9daf70573980a6aa0eab420a34242365f90b73\n",
      "  Stored in directory: /home/ec2-user/.cache/pip/wheels/43/11/be/445ade3de346b409945d1275aa2e46dd79fb6dcedff0417d1d\n",
      "Successfully built sagemaker\n",
      "Installing collected packages: sagemaker\n",
      "\u001b[33m  WARNING: The script sagemaker is installed in '/home/ec2-user/.local/bin' which is not on PATH.\n",
      "  Consider adding this directory to PATH or, if you prefer to suppress this warning, use --no-warn-script-location.\u001b[0m\n",
      "Successfully installed sagemaker-1.69.0\n"
     ]
    }
   ],
   "source": [
    "!pip install sagemaker --upgrade --user"
   ]
  },
  {
   "cell_type": "code",
   "execution_count": 2,
   "metadata": {},
   "outputs": [
    {
     "data": {
      "text/plain": [
       "'2.0.2'"
      ]
     },
     "execution_count": 2,
     "metadata": {},
     "output_type": "execute_result"
    }
   ],
   "source": [
    "import tensorflow as tf\n",
    "tf.__version__"
   ]
  },
  {
   "cell_type": "code",
   "execution_count": 66,
   "metadata": {},
   "outputs": [],
   "source": [
    "from __future__ import absolute_import, division, print_function, unicode_literals\n",
    "\n",
    "import tensorflow as tf\n",
    "import numpy as np\n",
    "import os\n",
    "import time"
   ]
  },
  {
   "cell_type": "markdown",
   "metadata": {},
   "source": [
    "# Get SageMaker Session"
   ]
  },
  {
   "cell_type": "code",
   "execution_count": 74,
   "metadata": {},
   "outputs": [],
   "source": [
    "import sagemaker\n",
    "\n",
    "sess = sagemaker.Session()\n",
    "role = sagemaker.get_execution_role()"
   ]
  },
  {
   "cell_type": "markdown",
   "metadata": {},
   "source": [
    "# Download MNIST dataset and save it to local folder"
   ]
  },
  {
   "cell_type": "code",
   "execution_count": 165,
   "metadata": {},
   "outputs": [],
   "source": [
    "os.makedirs(\"./data\", exist_ok = True)\n",
    "np.savez('./data/training', data=tf.keras.datasets.mnist.load_data())"
   ]
  },
  {
   "cell_type": "markdown",
   "metadata": {},
   "source": [
    "# Check the downloaded MNIST dataset"
   ]
  },
  {
   "cell_type": "code",
   "execution_count": 168,
   "metadata": {},
   "outputs": [
    {
     "data": {
      "text/plain": [
       "(60000, 28, 28)"
      ]
     },
     "execution_count": 168,
     "metadata": {},
     "output_type": "execute_result"
    }
   ],
   "source": [
    "#path = tf.keras.utils.get_file('training.npz', './data/training')\n",
    "data = np.load('./data/training.npz', allow_pickle=True)\n",
    "train_examples = data[\"data\"][0][0]\n",
    "train_examples.shape"
   ]
  },
  {
   "cell_type": "markdown",
   "metadata": {},
   "source": [
    "# Upload MNIST data to S3\n"
   ]
  },
  {
   "cell_type": "code",
   "execution_count": 175,
   "metadata": {},
   "outputs": [
    {
     "name": "stdout",
     "output_type": "stream",
     "text": [
      "s3://sagemaker-us-east-1-242609326423/tf2-gan-mnist/training/training.npz\n"
     ]
    }
   ],
   "source": [
    "prefix = 'tf2-gan-mnist'\n",
    "\n",
    "training_input_path   = sess.upload_data('./data/training.npz', key_prefix=prefix+'/training')\n",
    "print(training_input_path)"
   ]
  },
  {
   "cell_type": "markdown",
   "metadata": {},
   "source": [
    "# Train TF2-GAN-MODEL outside of SageMaker (just like on your laptop)\n"
   ]
  },
  {
   "cell_type": "code",
   "execution_count": 170,
   "metadata": {},
   "outputs": [
    {
     "name": "stdout",
     "output_type": "stream",
     "text": [
      "env: SM_NUM_GPUS=0\n",
      "env: SM_MODEL_DIR=/tmp/model\n",
      "env: SM_CHANNEL_TRAINING=data\n",
      "Using TensorFlow backend.\n",
      "tensorflow version: 2.0.2\n",
      "2020-07-10 18:00:10.814904: I tensorflow/core/platform/cpu_feature_guard.cc:142] Your CPU supports instructions that this TensorFlow binary was not compiled to use: AVX2 FMA\n",
      "2020-07-10 18:00:10.820157: I tensorflow/core/platform/profile_utils/cpu_utils.cc:94] CPU Frequency: 2400065000 Hz\n",
      "2020-07-10 18:00:10.820331: I tensorflow/compiler/xla/service/service.cc:168] XLA service 0x55e63bd1c060 executing computations on platform Host. Devices:\n",
      "2020-07-10 18:00:10.820350: I tensorflow/compiler/xla/service/service.cc:175]   StreamExecutor device (0): Host, Default Version\n",
      "epoch 0 loss 1.6618138551712036\n",
      "2020-07-10 18:01:59.675473: W tensorflow/python/util/util.cc:299] Sets are not currently considered sequences, but this may change in the future, so consider avoiding using them.\n",
      "WARNING:tensorflow:From /home/ec2-user/anaconda3/envs/amazonei_tensorflow2_p36/lib/python3.6/site-packages/tensorflow_core/python/ops/resource_variable_ops.py:1781: calling BaseResourceVariable.__init__ (from tensorflow.python.ops.resource_variable_ops) with constraint is deprecated and will be removed in a future version.\n",
      "Instructions for updating:\n",
      "If using Keras pass *_constraint arguments to layers.\n"
     ]
    }
   ],
   "source": [
    "%env SM_NUM_GPUS=0\n",
    "%env SM_MODEL_DIR=/tmp/model\n",
    "%env SM_CHANNEL_TRAINING=data\n",
    "\n",
    "\n",
    "!python sagemaker-tf2-gan-mnist.py --epochs 1"
   ]
  },
  {
   "cell_type": "code",
   "execution_count": 171,
   "metadata": {},
   "outputs": [
    {
     "name": "stdout",
     "output_type": "stream",
     "text": [
      "001-discriminator  001-generator\r\n"
     ]
    }
   ],
   "source": [
    "!ls /tmp/model"
   ]
  },
  {
   "cell_type": "markdown",
   "metadata": {},
   "source": [
    "# Train with Tensorflow2 on the notebook instance (aka 'local mode')¶"
   ]
  },
  {
   "cell_type": "code",
   "execution_count": 176,
   "metadata": {},
   "outputs": [],
   "source": [
    "from sagemaker.tensorflow import TensorFlow\n",
    "\n",
    "tf_estimator = TensorFlow(entry_point='sagemaker-tf2-gan-mnist.py', \n",
    "                          role=role,\n",
    "                          train_instance_count=1, \n",
    "                          train_instance_type='local',\n",
    "                          framework_version='2.0', \n",
    "                          py_version='py3',\n",
    "                          script_mode=True,\n",
    "                          hyperparameters={'epochs': 1}\n",
    "                         )"
   ]
  },
  {
   "cell_type": "code",
   "execution_count": 178,
   "metadata": {},
   "outputs": [
    {
     "name": "stderr",
     "output_type": "stream",
     "text": [
      "'create_image_uri' will be deprecated in favor of 'ImageURIProvider' class in SageMaker Python SDK v2.\n",
      "'s3_input' class will be renamed to 'TrainingInput' in SageMaker Python SDK v2.\n",
      "'create_image_uri' will be deprecated in favor of 'ImageURIProvider' class in SageMaker Python SDK v2.\n"
     ]
    },
    {
     "name": "stdout",
     "output_type": "stream",
     "text": [
      "Creating tmp7551k4be_algo-1-g4n31_1 ... \n",
      "\u001b[1BAttaching to tmp7551k4be_algo-1-g4n31_12mdone\u001b[0m\n",
      "\u001b[36malgo-1-g4n31_1  |\u001b[0m 2020-07-10 19:30:58,649 sagemaker-training-toolkit INFO     Imported framework sagemaker_tensorflow_container.training\n",
      "\u001b[36malgo-1-g4n31_1  |\u001b[0m 2020-07-10 19:30:58,655 sagemaker-training-toolkit INFO     No GPUs detected (normal if no gpus installed)\n",
      "\u001b[36malgo-1-g4n31_1  |\u001b[0m 2020-07-10 19:30:58,915 sagemaker-training-toolkit INFO     No GPUs detected (normal if no gpus installed)\n",
      "\u001b[36malgo-1-g4n31_1  |\u001b[0m 2020-07-10 19:30:58,931 sagemaker-training-toolkit INFO     No GPUs detected (normal if no gpus installed)\n",
      "\u001b[36malgo-1-g4n31_1  |\u001b[0m 2020-07-10 19:30:58,948 sagemaker-training-toolkit INFO     No GPUs detected (normal if no gpus installed)\n",
      "\u001b[36malgo-1-g4n31_1  |\u001b[0m 2020-07-10 19:30:58,958 sagemaker-training-toolkit INFO     Invoking user script\n",
      "\u001b[36malgo-1-g4n31_1  |\u001b[0m \n",
      "\u001b[36malgo-1-g4n31_1  |\u001b[0m Training Env:\n",
      "\u001b[36malgo-1-g4n31_1  |\u001b[0m \n",
      "\u001b[36malgo-1-g4n31_1  |\u001b[0m {\n",
      "\u001b[36malgo-1-g4n31_1  |\u001b[0m     \"additional_framework_parameters\": {},\n",
      "\u001b[36malgo-1-g4n31_1  |\u001b[0m     \"channel_input_dirs\": {\n",
      "\u001b[36malgo-1-g4n31_1  |\u001b[0m         \"training\": \"/opt/ml/input/data/training\"\n",
      "\u001b[36malgo-1-g4n31_1  |\u001b[0m     },\n",
      "\u001b[36malgo-1-g4n31_1  |\u001b[0m     \"current_host\": \"algo-1-g4n31\",\n",
      "\u001b[36malgo-1-g4n31_1  |\u001b[0m     \"framework_module\": \"sagemaker_tensorflow_container.training:main\",\n",
      "\u001b[36malgo-1-g4n31_1  |\u001b[0m     \"hosts\": [\n",
      "\u001b[36malgo-1-g4n31_1  |\u001b[0m         \"algo-1-g4n31\"\n",
      "\u001b[36malgo-1-g4n31_1  |\u001b[0m     ],\n",
      "\u001b[36malgo-1-g4n31_1  |\u001b[0m     \"hyperparameters\": {\n",
      "\u001b[36malgo-1-g4n31_1  |\u001b[0m         \"epochs\": 1,\n",
      "\u001b[36malgo-1-g4n31_1  |\u001b[0m         \"model_dir\": \"s3://sagemaker-us-east-1-242609326423/tensorflow-training-2020-07-10-18-09-16-481/model\"\n",
      "\u001b[36malgo-1-g4n31_1  |\u001b[0m     },\n",
      "\u001b[36malgo-1-g4n31_1  |\u001b[0m     \"input_config_dir\": \"/opt/ml/input/config\",\n",
      "\u001b[36malgo-1-g4n31_1  |\u001b[0m     \"input_data_config\": {\n",
      "\u001b[36malgo-1-g4n31_1  |\u001b[0m         \"training\": {\n",
      "\u001b[36malgo-1-g4n31_1  |\u001b[0m             \"TrainingInputMode\": \"File\"\n",
      "\u001b[36malgo-1-g4n31_1  |\u001b[0m         }\n",
      "\u001b[36malgo-1-g4n31_1  |\u001b[0m     },\n",
      "\u001b[36malgo-1-g4n31_1  |\u001b[0m     \"input_dir\": \"/opt/ml/input\",\n",
      "\u001b[36malgo-1-g4n31_1  |\u001b[0m     \"is_master\": true,\n",
      "\u001b[36malgo-1-g4n31_1  |\u001b[0m     \"job_name\": \"tensorflow-training-2020-07-10-19-30-52-201\",\n",
      "\u001b[36malgo-1-g4n31_1  |\u001b[0m     \"log_level\": 20,\n",
      "\u001b[36malgo-1-g4n31_1  |\u001b[0m     \"master_hostname\": \"algo-1-g4n31\",\n",
      "\u001b[36malgo-1-g4n31_1  |\u001b[0m     \"model_dir\": \"/opt/ml/model\",\n",
      "\u001b[36malgo-1-g4n31_1  |\u001b[0m     \"module_dir\": \"s3://sagemaker-us-east-1-242609326423/tensorflow-training-2020-07-10-19-30-52-201/source/sourcedir.tar.gz\",\n",
      "\u001b[36malgo-1-g4n31_1  |\u001b[0m     \"module_name\": \"sagemaker-tf2-gan-mnist\",\n",
      "\u001b[36malgo-1-g4n31_1  |\u001b[0m     \"network_interface_name\": \"eth0\",\n",
      "\u001b[36malgo-1-g4n31_1  |\u001b[0m     \"num_cpus\": 2,\n",
      "\u001b[36malgo-1-g4n31_1  |\u001b[0m     \"num_gpus\": 0,\n",
      "\u001b[36malgo-1-g4n31_1  |\u001b[0m     \"output_data_dir\": \"/opt/ml/output/data\",\n",
      "\u001b[36malgo-1-g4n31_1  |\u001b[0m     \"output_dir\": \"/opt/ml/output\",\n",
      "\u001b[36malgo-1-g4n31_1  |\u001b[0m     \"output_intermediate_dir\": \"/opt/ml/output/intermediate\",\n",
      "\u001b[36malgo-1-g4n31_1  |\u001b[0m     \"resource_config\": {\n",
      "\u001b[36malgo-1-g4n31_1  |\u001b[0m         \"current_host\": \"algo-1-g4n31\",\n",
      "\u001b[36malgo-1-g4n31_1  |\u001b[0m         \"hosts\": [\n",
      "\u001b[36malgo-1-g4n31_1  |\u001b[0m             \"algo-1-g4n31\"\n",
      "\u001b[36malgo-1-g4n31_1  |\u001b[0m         ]\n",
      "\u001b[36malgo-1-g4n31_1  |\u001b[0m     },\n",
      "\u001b[36malgo-1-g4n31_1  |\u001b[0m     \"user_entry_point\": \"sagemaker-tf2-gan-mnist.py\"\n",
      "\u001b[36malgo-1-g4n31_1  |\u001b[0m }\n",
      "\u001b[36malgo-1-g4n31_1  |\u001b[0m \n",
      "\u001b[36malgo-1-g4n31_1  |\u001b[0m Environment variables:\n",
      "\u001b[36malgo-1-g4n31_1  |\u001b[0m \n",
      "\u001b[36malgo-1-g4n31_1  |\u001b[0m SM_HOSTS=[\"algo-1-g4n31\"]\n",
      "\u001b[36malgo-1-g4n31_1  |\u001b[0m SM_NETWORK_INTERFACE_NAME=eth0\n",
      "\u001b[36malgo-1-g4n31_1  |\u001b[0m SM_HPS={\"epochs\":1,\"model_dir\":\"s3://sagemaker-us-east-1-242609326423/tensorflow-training-2020-07-10-18-09-16-481/model\"}\n",
      "\u001b[36malgo-1-g4n31_1  |\u001b[0m SM_USER_ENTRY_POINT=sagemaker-tf2-gan-mnist.py\n",
      "\u001b[36malgo-1-g4n31_1  |\u001b[0m SM_FRAMEWORK_PARAMS={}\n",
      "\u001b[36malgo-1-g4n31_1  |\u001b[0m SM_RESOURCE_CONFIG={\"current_host\":\"algo-1-g4n31\",\"hosts\":[\"algo-1-g4n31\"]}\n",
      "\u001b[36malgo-1-g4n31_1  |\u001b[0m SM_INPUT_DATA_CONFIG={\"training\":{\"TrainingInputMode\":\"File\"}}\n",
      "\u001b[36malgo-1-g4n31_1  |\u001b[0m SM_OUTPUT_DATA_DIR=/opt/ml/output/data\n",
      "\u001b[36malgo-1-g4n31_1  |\u001b[0m SM_CHANNELS=[\"training\"]\n",
      "\u001b[36malgo-1-g4n31_1  |\u001b[0m SM_CURRENT_HOST=algo-1-g4n31\n",
      "\u001b[36malgo-1-g4n31_1  |\u001b[0m SM_MODULE_NAME=sagemaker-tf2-gan-mnist\n",
      "\u001b[36malgo-1-g4n31_1  |\u001b[0m SM_LOG_LEVEL=20\n",
      "\u001b[36malgo-1-g4n31_1  |\u001b[0m SM_FRAMEWORK_MODULE=sagemaker_tensorflow_container.training:main\n",
      "\u001b[36malgo-1-g4n31_1  |\u001b[0m SM_INPUT_DIR=/opt/ml/input\n",
      "\u001b[36malgo-1-g4n31_1  |\u001b[0m SM_INPUT_CONFIG_DIR=/opt/ml/input/config\n",
      "\u001b[36malgo-1-g4n31_1  |\u001b[0m SM_OUTPUT_DIR=/opt/ml/output\n",
      "\u001b[36malgo-1-g4n31_1  |\u001b[0m SM_NUM_CPUS=2\n",
      "\u001b[36malgo-1-g4n31_1  |\u001b[0m SM_NUM_GPUS=0\n",
      "\u001b[36malgo-1-g4n31_1  |\u001b[0m SM_MODEL_DIR=/opt/ml/model\n",
      "\u001b[36malgo-1-g4n31_1  |\u001b[0m SM_MODULE_DIR=s3://sagemaker-us-east-1-242609326423/tensorflow-training-2020-07-10-19-30-52-201/source/sourcedir.tar.gz\n",
      "\u001b[36malgo-1-g4n31_1  |\u001b[0m SM_TRAINING_ENV={\"additional_framework_parameters\":{},\"channel_input_dirs\":{\"training\":\"/opt/ml/input/data/training\"},\"current_host\":\"algo-1-g4n31\",\"framework_module\":\"sagemaker_tensorflow_container.training:main\",\"hosts\":[\"algo-1-g4n31\"],\"hyperparameters\":{\"epochs\":1,\"model_dir\":\"s3://sagemaker-us-east-1-242609326423/tensorflow-training-2020-07-10-18-09-16-481/model\"},\"input_config_dir\":\"/opt/ml/input/config\",\"input_data_config\":{\"training\":{\"TrainingInputMode\":\"File\"}},\"input_dir\":\"/opt/ml/input\",\"is_master\":true,\"job_name\":\"tensorflow-training-2020-07-10-19-30-52-201\",\"log_level\":20,\"master_hostname\":\"algo-1-g4n31\",\"model_dir\":\"/opt/ml/model\",\"module_dir\":\"s3://sagemaker-us-east-1-242609326423/tensorflow-training-2020-07-10-19-30-52-201/source/sourcedir.tar.gz\",\"module_name\":\"sagemaker-tf2-gan-mnist\",\"network_interface_name\":\"eth0\",\"num_cpus\":2,\"num_gpus\":0,\"output_data_dir\":\"/opt/ml/output/data\",\"output_dir\":\"/opt/ml/output\",\"output_intermediate_dir\":\"/opt/ml/output/intermediate\",\"resource_config\":{\"current_host\":\"algo-1-g4n31\",\"hosts\":[\"algo-1-g4n31\"]},\"user_entry_point\":\"sagemaker-tf2-gan-mnist.py\"}\n",
      "\u001b[36malgo-1-g4n31_1  |\u001b[0m SM_USER_ARGS=[\"--epochs\",\"1\",\"--model_dir\",\"s3://sagemaker-us-east-1-242609326423/tensorflow-training-2020-07-10-18-09-16-481/model\"]\n",
      "\u001b[36malgo-1-g4n31_1  |\u001b[0m SM_OUTPUT_INTERMEDIATE_DIR=/opt/ml/output/intermediate\n",
      "\u001b[36malgo-1-g4n31_1  |\u001b[0m SM_CHANNEL_TRAINING=/opt/ml/input/data/training\n",
      "\u001b[36malgo-1-g4n31_1  |\u001b[0m SM_HP_EPOCHS=1\n",
      "\u001b[36malgo-1-g4n31_1  |\u001b[0m SM_HP_MODEL_DIR=s3://sagemaker-us-east-1-242609326423/tensorflow-training-2020-07-10-18-09-16-481/model\n",
      "\u001b[36malgo-1-g4n31_1  |\u001b[0m PYTHONPATH=/opt/ml/code:/usr/local/bin:/usr/lib/python36.zip:/usr/lib/python3.6:/usr/lib/python3.6/lib-dynload:/usr/local/lib/python3.6/dist-packages:/usr/lib/python3/dist-packages\n",
      "\u001b[36malgo-1-g4n31_1  |\u001b[0m \n",
      "\u001b[36malgo-1-g4n31_1  |\u001b[0m Invoking script with the following command:\n",
      "\u001b[36malgo-1-g4n31_1  |\u001b[0m \n",
      "\u001b[36malgo-1-g4n31_1  |\u001b[0m /usr/bin/python3 sagemaker-tf2-gan-mnist.py --epochs 1 --model_dir s3://sagemaker-us-east-1-242609326423/tensorflow-training-2020-07-10-18-09-16-481/model\n",
      "\u001b[36malgo-1-g4n31_1  |\u001b[0m \n",
      "\u001b[36malgo-1-g4n31_1  |\u001b[0m \n",
      "\u001b[36malgo-1-g4n31_1  |\u001b[0m Using TensorFlow backend.\n",
      "\u001b[36malgo-1-g4n31_1  |\u001b[0m tensorflow version: 2.0.2\n",
      "\u001b[36malgo-1-g4n31_1  |\u001b[0m epoch 0 loss 1.753936767578125\n",
      "\u001b[36malgo-1-g4n31_1  |\u001b[0m 2020-07-10 19:32:09.180706: W tensorflow/python/util/util.cc:299] Sets are not currently considered sequences, but this may change in the future, so consider avoiding using them.\n",
      "\u001b[36malgo-1-g4n31_1  |\u001b[0m WARNING:tensorflow:From /usr/local/lib/python3.6/dist-packages/tensorflow_core/python/ops/resource_variable_ops.py:1781: calling BaseResourceVariable.__init__ (from tensorflow.python.ops.resource_variable_ops) with constraint is deprecated and will be removed in a future version.\n",
      "\u001b[36malgo-1-g4n31_1  |\u001b[0m Instructions for updating:\n",
      "\u001b[36malgo-1-g4n31_1  |\u001b[0m If using Keras pass *_constraint arguments to layers.\n",
      "\u001b[36malgo-1-g4n31_1  |\u001b[0m WARNING:tensorflow:From /usr/local/lib/python3.6/dist-packages/tensorflow_core/python/ops/resource_variable_ops.py:1781: calling BaseResourceVariable.__init__ (from tensorflow.python.ops.resource_variable_ops) with constraint is deprecated and will be removed in a future version.\n",
      "\u001b[36malgo-1-g4n31_1  |\u001b[0m Instructions for updating:\n",
      "\u001b[36malgo-1-g4n31_1  |\u001b[0m If using Keras pass *_constraint arguments to layers.\n"
     ]
    },
    {
     "name": "stdout",
     "output_type": "stream",
     "text": [
      "\u001b[36malgo-1-g4n31_1  |\u001b[0m INFO:tensorflow:Assets written to: /opt/ml/model/001-generator/assets\n",
      "\u001b[36malgo-1-g4n31_1  |\u001b[0m INFO:tensorflow:Assets written to: /opt/ml/model/001-generator/assets\n",
      "\u001b[36malgo-1-g4n31_1  |\u001b[0m INFO:tensorflow:Assets written to: /opt/ml/model/001-discriminator/assets\n",
      "\u001b[36malgo-1-g4n31_1  |\u001b[0m INFO:tensorflow:Assets written to: /opt/ml/model/001-discriminator/assets\n",
      "\u001b[36malgo-1-g4n31_1  |\u001b[0m 2020-07-10 19:32:11,212 sagemaker_tensorflow_container.training WARNING  Your model will NOT be servable with SageMaker TensorFlow Serving containers. The SavedModel bundle is under directory \"001-discriminator\", not a numeric name.\n",
      "\u001b[36malgo-1-g4n31_1  |\u001b[0m 2020-07-10 19:32:11,212 sagemaker_tensorflow_container.training WARNING  Your model will NOT be servable with SageMaker TensorFlow Serving containers. The SavedModel bundle is under directory \"001-generator\", not a numeric name.\n",
      "\u001b[36malgo-1-g4n31_1  |\u001b[0m 2020-07-10 19:32:11,213 sagemaker-training-toolkit INFO     Reporting training SUCCESS\n",
      "\u001b[36mtmp7551k4be_algo-1-g4n31_1 exited with code 0\n",
      "\u001b[0mAborting on container exit...\n",
      "===== Job Complete =====\n",
      "jupyter.cell:done!\n"
     ]
    }
   ],
   "source": [
    "tf_estimator.fit({'training': training_input_path})\n",
    "print (\"jupyter.cell:done!\")"
   ]
  },
  {
   "cell_type": "code",
   "execution_count": 253,
   "metadata": {},
   "outputs": [
    {
     "data": {
      "text/plain": [
       "'s3://sagemaker-us-east-1-242609326423/tensorflow-training-2020-07-10-19-30-52-201/model.tar.gz'"
      ]
     },
     "execution_count": 253,
     "metadata": {},
     "output_type": "execute_result"
    }
   ],
   "source": [
    "model_data_path=tf_estimator.model_data\n",
    "model_data_path"
   ]
  },
  {
   "cell_type": "markdown",
   "metadata": {},
   "source": [
    "# Do prediction by using model generated."
   ]
  },
  {
   "cell_type": "code",
   "execution_count": 263,
   "metadata": {},
   "outputs": [
    {
     "name": "stdout",
     "output_type": "stream",
     "text": [
      "download: s3://sagemaker-us-east-1-242609326423/tensorflow-training-2020-07-10-19-30-52-201/model.tar.gz to ./model.tar.gz\n",
      "aws-sagemaker-mnist-classification.ipynb  sagemaker-tf2-gan-mnist.ipynb\n",
      "data\t\t\t\t\t  sagemaker-tf2-gan-mnist.py\n",
      "Fashion MNIST-SageMaker.ipynb\t\t  test.ipynb\n",
      "mnist_keras_tf.py\t\t\t  tf2-gan-mnist\n",
      "model.tar.gz\t\t\t\t  Untitled.ipynb\n",
      "README.md\n"
     ]
    }
   ],
   "source": [
    "!aws s3 cp $model_data_path .\n",
    "!ls"
   ]
  },
  {
   "cell_type": "code",
   "execution_count": 267,
   "metadata": {},
   "outputs": [
    {
     "name": "stdout",
     "output_type": "stream",
     "text": [
      "001-discriminator/\n",
      "001-discriminator/variables/\n",
      "001-discriminator/variables/variables.data-00000-of-00001\n",
      "001-discriminator/variables/variables.index\n",
      "001-discriminator/assets/\n",
      "001-discriminator/saved_model.pb\n",
      "001-generator/\n",
      "001-generator/variables/\n",
      "001-generator/variables/variables.data-00000-of-00001\n",
      "001-generator/variables/variables.index\n",
      "001-generator/assets/\n",
      "001-generator/saved_model.pb\n"
     ]
    }
   ],
   "source": [
    "!mkdir -p model_output && tar xvf model.tar.gz -C model_output"
   ]
  },
  {
   "cell_type": "code",
   "execution_count": 269,
   "metadata": {},
   "outputs": [
    {
     "name": "stdout",
     "output_type": "stream",
     "text": [
      "assets\tsaved_model.pb\tvariables\r\n"
     ]
    }
   ],
   "source": [
    "!ls model_output/001-generator"
   ]
  },
  {
   "cell_type": "code",
   "execution_count": 272,
   "metadata": {},
   "outputs": [],
   "source": [
    "saved_generator_model = tf.saved_model.load(\"./model_output/001-generator\", tags=None)"
   ]
  },
  {
   "cell_type": "code",
   "execution_count": 277,
   "metadata": {},
   "outputs": [
    {
     "data": {
      "image/png": "[encoded data removed]",
      "text/plain": [
       "<Figure size 432x288 with 1 Axes>"
      ]
     },
     "metadata": {
      "needs_background": "light"
     },
     "output_type": "display_data"
    }
   ],
   "source": [
    "import matplotlib.pyplot as plt\n",
    "\n",
    "def show_first_image_in_batch(model):\n",
    "    batch_size, noise_dim =16, 100\n",
    "    noise = tf.random.normal([batch_size, noise_dim ])\n",
    "    generated_images = saved_generator_model(noise, training=False)\n",
    "    plt.imshow(generated_images[0, :, :, 0] * 127.5 + 127.5, cmap='gray')\n",
    "\n",
    "show_first_image_in_batch(saved_generator_model)"
   ]
  },
  {
   "cell_type": "markdown",
   "metadata": {},
   "source": [
    "# Train with Tensorflow on a GPU instance\n"
   ]
  },
  {
   "cell_type": "code",
   "execution_count": 281,
   "metadata": {},
   "outputs": [
    {
     "name": "stderr",
     "output_type": "stream",
     "text": [
      "'create_image_uri' will be deprecated in favor of 'ImageURIProvider' class in SageMaker Python SDK v2.\n",
      "'s3_input' class will be renamed to 'TrainingInput' in SageMaker Python SDK v2.\n",
      "'create_image_uri' will be deprecated in favor of 'ImageURIProvider' class in SageMaker Python SDK v2.\n"
     ]
    },
    {
     "name": "stdout",
     "output_type": "stream",
     "text": [
      "2020-07-10 20:24:22 Starting - Starting the training job...\n",
      "2020-07-10 20:24:24 Starting - Launching requested ML instances......\n",
      "2020-07-10 20:25:42 Starting - Preparing the instances for training............\n",
      "2020-07-10 20:27:41 Downloading - Downloading input data\n",
      "2020-07-10 20:27:41 Training - Downloading the training image......\n",
      "2020-07-10 20:28:48 Training - Training image download completed. Training in progress..\u001b[34m2020-07-10 20:28:51,838 sagemaker-training-toolkit INFO     Imported framework sagemaker_tensorflow_container.training\u001b[0m\n",
      "\u001b[34m2020-07-10 20:28:52,350 sagemaker-training-toolkit INFO     Invoking user script\n",
      "\u001b[0m\n",
      "\u001b[34mTraining Env:\n",
      "\u001b[0m\n",
      "\u001b[34m{\n",
      "    \"additional_framework_parameters\": {},\n",
      "    \"channel_input_dirs\": {\n",
      "        \"training\": \"/opt/ml/input/data/training\"\n",
      "    },\n",
      "    \"current_host\": \"algo-1\",\n",
      "    \"framework_module\": \"sagemaker_tensorflow_container.training:main\",\n",
      "    \"hosts\": [\n",
      "        \"algo-1\"\n",
      "    ],\n",
      "    \"hyperparameters\": {\n",
      "        \"batch-size\": 256,\n",
      "        \"learning-rate\": 0.01,\n",
      "        \"model_dir\": \"s3://sagemaker-us-east-1-242609326423/tensorflow-training-2020-07-10-20-24-21-796/model\",\n",
      "        \"epochs\": 60\n",
      "    },\n",
      "    \"input_config_dir\": \"/opt/ml/input/config\",\n",
      "    \"input_data_config\": {\n",
      "        \"training\": {\n",
      "            \"TrainingInputMode\": \"File\",\n",
      "            \"S3DistributionType\": \"FullyReplicated\",\n",
      "            \"RecordWrapperType\": \"None\"\n",
      "        }\n",
      "    },\n",
      "    \"input_dir\": \"/opt/ml/input\",\n",
      "    \"is_master\": true,\n",
      "    \"job_name\": \"tensorflow-training-2020-07-10-20-24-21-796\",\n",
      "    \"log_level\": 20,\n",
      "    \"master_hostname\": \"algo-1\",\n",
      "    \"model_dir\": \"/opt/ml/model\",\n",
      "    \"module_dir\": \"s3://sagemaker-us-east-1-242609326423/tensorflow-training-2020-07-10-20-24-21-796/source/sourcedir.tar.gz\",\n",
      "    \"module_name\": \"sagemaker-tf2-gan-mnist\",\n",
      "    \"network_interface_name\": \"eth0\",\n",
      "    \"num_cpus\": 8,\n",
      "    \"num_gpus\": 1,\n",
      "    \"output_data_dir\": \"/opt/ml/output/data\",\n",
      "    \"output_dir\": \"/opt/ml/output\",\n",
      "    \"output_intermediate_dir\": \"/opt/ml/output/intermediate\",\n",
      "    \"resource_config\": {\n",
      "        \"current_host\": \"algo-1\",\n",
      "        \"hosts\": [\n",
      "            \"algo-1\"\n",
      "        ],\n",
      "        \"network_interface_name\": \"eth0\"\n",
      "    },\n",
      "    \"user_entry_point\": \"sagemaker-tf2-gan-mnist.py\"\u001b[0m\n",
      "\u001b[34m}\n",
      "\u001b[0m\n",
      "\u001b[34mEnvironment variables:\n",
      "\u001b[0m\n",
      "\u001b[34mSM_HOSTS=[\"algo-1\"]\u001b[0m\n",
      "\u001b[34mSM_NETWORK_INTERFACE_NAME=eth0\u001b[0m\n",
      "\u001b[34mSM_HPS={\"batch-size\":256,\"epochs\":60,\"learning-rate\":0.01,\"model_dir\":\"s3://sagemaker-us-east-1-242609326423/tensorflow-training-2020-07-10-20-24-21-796/model\"}\u001b[0m\n",
      "\u001b[34mSM_USER_ENTRY_POINT=sagemaker-tf2-gan-mnist.py\u001b[0m\n",
      "\u001b[34mSM_FRAMEWORK_PARAMS={}\u001b[0m\n",
      "\u001b[34mSM_RESOURCE_CONFIG={\"current_host\":\"algo-1\",\"hosts\":[\"algo-1\"],\"network_interface_name\":\"eth0\"}\u001b[0m\n",
      "\u001b[34mSM_INPUT_DATA_CONFIG={\"training\":{\"RecordWrapperType\":\"None\",\"S3DistributionType\":\"FullyReplicated\",\"TrainingInputMode\":\"File\"}}\u001b[0m\n",
      "\u001b[34mSM_OUTPUT_DATA_DIR=/opt/ml/output/data\u001b[0m\n",
      "\u001b[34mSM_CHANNELS=[\"training\"]\u001b[0m\n",
      "\u001b[34mSM_CURRENT_HOST=algo-1\u001b[0m\n",
      "\u001b[34mSM_MODULE_NAME=sagemaker-tf2-gan-mnist\u001b[0m\n",
      "\u001b[34mSM_LOG_LEVEL=20\u001b[0m\n",
      "\u001b[34mSM_FRAMEWORK_MODULE=sagemaker_tensorflow_container.training:main\u001b[0m\n",
      "\u001b[34mSM_INPUT_DIR=/opt/ml/input\u001b[0m\n",
      "\u001b[34mSM_INPUT_CONFIG_DIR=/opt/ml/input/config\u001b[0m\n",
      "\u001b[34mSM_OUTPUT_DIR=/opt/ml/output\u001b[0m\n",
      "\u001b[34mSM_NUM_CPUS=8\u001b[0m\n",
      "\u001b[34mSM_NUM_GPUS=1\u001b[0m\n",
      "\u001b[34mSM_MODEL_DIR=/opt/ml/model\u001b[0m\n",
      "\u001b[34mSM_MODULE_DIR=s3://sagemaker-us-east-1-242609326423/tensorflow-training-2020-07-10-20-24-21-796/source/sourcedir.tar.gz\u001b[0m\n",
      "\u001b[34mSM_TRAINING_ENV={\"additional_framework_parameters\":{},\"channel_input_dirs\":{\"training\":\"/opt/ml/input/data/training\"},\"current_host\":\"algo-1\",\"framework_module\":\"sagemaker_tensorflow_container.training:main\",\"hosts\":[\"algo-1\"],\"hyperparameters\":{\"batch-size\":256,\"epochs\":60,\"learning-rate\":0.01,\"model_dir\":\"s3://sagemaker-us-east-1-242609326423/tensorflow-training-2020-07-10-20-24-21-796/model\"},\"input_config_dir\":\"/opt/ml/input/config\",\"input_data_config\":{\"training\":{\"RecordWrapperType\":\"None\",\"S3DistributionType\":\"FullyReplicated\",\"TrainingInputMode\":\"File\"}},\"input_dir\":\"/opt/ml/input\",\"is_master\":true,\"job_name\":\"tensorflow-training-2020-07-10-20-24-21-796\",\"log_level\":20,\"master_hostname\":\"algo-1\",\"model_dir\":\"/opt/ml/model\",\"module_dir\":\"s3://sagemaker-us-east-1-242609326423/tensorflow-training-2020-07-10-20-24-21-796/source/sourcedir.tar.gz\",\"module_name\":\"sagemaker-tf2-gan-mnist\",\"network_interface_name\":\"eth0\",\"num_cpus\":8,\"num_gpus\":1,\"output_data_dir\":\"/opt/ml/output/data\",\"output_dir\":\"/opt/ml/output\",\"output_intermediate_dir\":\"/opt/ml/output/intermediate\",\"resource_config\":{\"current_host\":\"algo-1\",\"hosts\":[\"algo-1\"],\"network_interface_name\":\"eth0\"},\"user_entry_point\":\"sagemaker-tf2-gan-mnist.py\"}\u001b[0m\n",
      "\u001b[34mSM_USER_ARGS=[\"--batch-size\",\"256\",\"--epochs\",\"60\",\"--learning-rate\",\"0.01\",\"--model_dir\",\"s3://sagemaker-us-east-1-242609326423/tensorflow-training-2020-07-10-20-24-21-796/model\"]\u001b[0m\n",
      "\u001b[34mSM_OUTPUT_INTERMEDIATE_DIR=/opt/ml/output/intermediate\u001b[0m\n",
      "\u001b[34mSM_CHANNEL_TRAINING=/opt/ml/input/data/training\u001b[0m\n",
      "\u001b[34mSM_HP_BATCH-SIZE=256\u001b[0m\n",
      "\u001b[34mSM_HP_LEARNING-RATE=0.01\u001b[0m\n",
      "\u001b[34mSM_HP_MODEL_DIR=s3://sagemaker-us-east-1-242609326423/tensorflow-training-2020-07-10-20-24-21-796/model\u001b[0m\n",
      "\u001b[34mSM_HP_EPOCHS=60\u001b[0m\n",
      "\u001b[34mPYTHONPATH=/opt/ml/code:/usr/local/bin:/usr/lib/python36.zip:/usr/lib/python3.6:/usr/lib/python3.6/lib-dynload:/usr/local/lib/python3.6/dist-packages:/usr/lib/python3/dist-packages\n",
      "\u001b[0m\n",
      "\u001b[34mInvoking script with the following command:\n",
      "\u001b[0m\n",
      "\u001b[34m/usr/bin/python3 sagemaker-tf2-gan-mnist.py --batch-size 256 --epochs 60 --learning-rate 0.01 --model_dir s3://sagemaker-us-east-1-242609326423/tensorflow-training-2020-07-10-20-24-21-796/model\n",
      "\n",
      "\u001b[0m\n",
      "\u001b[34mUsing TensorFlow backend.\u001b[0m\n",
      "\u001b[34mtensorflow version: 2.0.2\u001b[0m\n",
      "\u001b[34mepoch 0 loss 1.7121905088424683\u001b[0m\n",
      "\u001b[34mepoch 1 loss 1.8734900951385498\u001b[0m\n",
      "\u001b[34mepoch 2 loss 2.053401470184326\u001b[0m\n",
      "\u001b[34mepoch 3 loss 2.069401264190674\u001b[0m\n",
      "\u001b[34mepoch 4 loss 2.0848944187164307\u001b[0m\n",
      "\u001b[34mepoch 5 loss 2.131686210632324\u001b[0m\n",
      "\u001b[34mepoch 6 loss 2.0734145641326904\u001b[0m\n",
      "\u001b[34mepoch 7 loss 2.0914974212646484\u001b[0m\n",
      "\u001b[34mepoch 8 loss 2.1108248233795166\u001b[0m\n",
      "\u001b[34mepoch 9 loss 2.116520404815674\u001b[0m\n",
      "\u001b[34mepoch 10 loss 2.183021306991577\u001b[0m\n",
      "\u001b[34mepoch 11 loss 2.209428310394287\u001b[0m\n",
      "\u001b[34mepoch 12 loss 2.130502223968506\u001b[0m\n",
      "\u001b[34mepoch 13 loss 2.1797494888305664\u001b[0m\n",
      "\u001b[34mepoch 14 loss 2.1104683876037598\u001b[0m\n",
      "\u001b[34mepoch 15 loss 2.275907516479492\u001b[0m\n",
      "\u001b[34mepoch 16 loss 2.131439208984375\u001b[0m\n",
      "\u001b[34mepoch 17 loss 2.1407852172851562\u001b[0m\n",
      "\u001b[34mepoch 18 loss 2.1349616050720215\u001b[0m\n",
      "\u001b[34mepoch 19 loss 2.149906635284424\u001b[0m\n",
      "\u001b[34mepoch 20 loss 2.144911766052246\u001b[0m\n",
      "\u001b[34mepoch 21 loss 2.1191482543945312\u001b[0m\n",
      "\u001b[34mepoch 22 loss 2.1342294216156006\u001b[0m\n",
      "\u001b[34mepoch 23 loss 2.1408629417419434\u001b[0m\n",
      "\u001b[34mepoch 24 loss 2.151322364807129\u001b[0m\n",
      "\u001b[34mepoch 25 loss 2.116326332092285\u001b[0m\n",
      "\u001b[34mepoch 26 loss 2.193993330001831\u001b[0m\n",
      "\u001b[34mepoch 27 loss 2.257840156555176\u001b[0m\n",
      "\u001b[34mepoch 28 loss 2.1698195934295654\u001b[0m\n",
      "\u001b[34mepoch 29 loss 2.1451809406280518\u001b[0m\n",
      "\u001b[34mepoch 30 loss 2.175002098083496\u001b[0m\n",
      "\u001b[34mepoch 31 loss 2.2316436767578125\u001b[0m\n",
      "\u001b[34mepoch 32 loss 2.2115731239318848\u001b[0m\n",
      "\u001b[34mepoch 33 loss 2.1939444541931152\u001b[0m\n",
      "\u001b[34mepoch 34 loss 2.1430652141571045\u001b[0m\n",
      "\u001b[34mepoch 35 loss 2.2712457180023193\u001b[0m\n",
      "\u001b[34mepoch 36 loss 2.1747357845306396\u001b[0m\n",
      "\u001b[34mepoch 37 loss 2.25314998626709\u001b[0m\n",
      "\u001b[34mepoch 38 loss 2.259371280670166\u001b[0m\n",
      "\u001b[34mepoch 39 loss 2.1469173431396484\u001b[0m\n",
      "\u001b[34mepoch 40 loss 2.1907689571380615\u001b[0m\n",
      "\u001b[34mepoch 41 loss 2.2669687271118164\u001b[0m\n",
      "\u001b[34mepoch 42 loss 2.1664469242095947\u001b[0m\n",
      "\u001b[34mepoch 43 loss 2.200796127319336\u001b[0m\n",
      "\u001b[34mepoch 44 loss 2.266728162765503\u001b[0m\n",
      "\u001b[34mepoch 45 loss 2.201280355453491\u001b[0m\n",
      "\u001b[34mepoch 46 loss 2.2007837295532227\u001b[0m\n",
      "\u001b[34mepoch 47 loss 2.247243881225586\u001b[0m\n",
      "\u001b[34mepoch 48 loss 2.2486579418182373\u001b[0m\n",
      "\u001b[34mepoch 49 loss 2.315640926361084\u001b[0m\n",
      "\u001b[34mepoch 50 loss 2.327984571456909\u001b[0m\n",
      "\u001b[34mepoch 51 loss 2.2706034183502197\u001b[0m\n",
      "\u001b[34mepoch 52 loss 2.3434886932373047\u001b[0m\n",
      "\u001b[34mepoch 53 loss 2.289907455444336\u001b[0m\n",
      "\u001b[34mepoch 54 loss 2.3425519466400146\u001b[0m\n",
      "\u001b[34mepoch 55 loss 2.322571039199829\u001b[0m\n",
      "\u001b[34mepoch 56 loss 2.306708335876465\u001b[0m\n",
      "\n",
      "2020-07-10 20:30:49 Uploading - Uploading generated training model\u001b[34mepoch 57 loss 2.273054361343384\u001b[0m\n",
      "\u001b[34mepoch 58 loss 2.2741434574127197\u001b[0m\n",
      "\u001b[34mepoch 59 loss 2.303114652633667\u001b[0m\n",
      "\u001b[34m2020-07-10 20:30:44.077599: W tensorflow/python/util/util.cc:299] Sets are not currently considered sequences, but this may change in the future, so consider avoiding using them.\u001b[0m\n",
      "\u001b[34mWARNING:tensorflow:From /usr/local/lib/python3.6/dist-packages/tensorflow_core/python/ops/resource_variable_ops.py:1781: calling BaseResourceVariable.__init__ (from tensorflow.python.ops.resource_variable_ops) with constraint is deprecated and will be removed in a future version.\u001b[0m\n",
      "\u001b[34mInstructions for updating:\u001b[0m\n",
      "\u001b[34mIf using Keras pass *_constraint arguments to layers.\u001b[0m\n",
      "\u001b[34mWARNING:tensorflow:From /usr/local/lib/python3.6/dist-packages/tensorflow_core/python/ops/resource_variable_ops.py:1781: calling BaseResourceVariable.__init__ (from tensorflow.python.ops.resource_variable_ops) with constraint is deprecated and will be removed in a future version.\u001b[0m\n",
      "\u001b[34mInstructions for updating:\u001b[0m\n",
      "\u001b[34mIf using Keras pass *_constraint arguments to layers.\u001b[0m\n",
      "\u001b[34mINFO:tensorflow:Assets written to: /opt/ml/model/001-generator/assets\u001b[0m\n",
      "\u001b[34mINFO:tensorflow:Assets written to: /opt/ml/model/001-generator/assets\u001b[0m\n",
      "\u001b[34mINFO:tensorflow:Assets written to: /opt/ml/model/001-discriminator/assets\u001b[0m\n",
      "\u001b[34mINFO:tensorflow:Assets written to: /opt/ml/model/001-discriminator/assets\u001b[0m\n",
      "\u001b[34m2020-07-10 20:30:46,618 sagemaker_tensorflow_container.training WARNING  Your model will NOT be servable with SageMaker TensorFlow Serving containers. The SavedModel bundle is under directory \"001-generator\", not a numeric name.\u001b[0m\n",
      "\u001b[34m2020-07-10 20:30:46,618 sagemaker_tensorflow_container.training WARNING  Your model will NOT be servable with SageMaker TensorFlow Serving containers. The SavedModel bundle is under directory \"001-discriminator\", not a numeric name.\u001b[0m\n",
      "\u001b[34m2020-07-10 20:30:46,619 sagemaker-training-toolkit INFO     Reporting training SUCCESS\u001b[0m\n"
     ]
    },
    {
     "name": "stdout",
     "output_type": "stream",
     "text": [
      "\n",
      "2020-07-10 20:31:07 Completed - Training job completed\n",
      "Training seconds: 213\n",
      "Billable seconds: 213\n"
     ]
    }
   ],
   "source": [
    "tf_estimator = TensorFlow(entry_point='sagemaker-tf2-gan-mnist.py', \n",
    "                          role=role,\n",
    "                          train_instance_count=1, \n",
    "                          train_instance_type='ml.p3.2xlarge',\n",
    "                          framework_version='2.0', \n",
    "                          py_version='py3',\n",
    "                          script_mode=True,\n",
    "                          hyperparameters={\n",
    "                              'epochs': 60,\n",
    "                              'batch-size': 256,\n",
    "                              'learning-rate': 0.01}\n",
    "                         )\n",
    "tf_estimator.fit({'training': training_input_path})\n",
    "print(\"jupyter.cell:done!\")"
   ]
  },
  {
   "cell_type": "code",
   "execution_count": 280,
   "metadata": {},
   "outputs": [
    {
     "name": "stdout",
     "output_type": "stream",
     "text": [
      "download: s3://sagemaker-us-east-1-242609326423/tensorflow-training-2020-07-10-20-16-26-740/output/model.tar.gz to ./model.tar.gz\n",
      "001-discriminator/\n",
      "001-discriminator/assets/\n",
      "001-discriminator/saved_model.pb\n",
      "001-discriminator/variables/\n",
      "001-discriminator/variables/variables.data-00000-of-00002\n",
      "001-discriminator/variables/variables.index\n",
      "001-discriminator/variables/variables.data-00001-of-00002\n",
      "001-generator/\n",
      "001-generator/assets/\n",
      "001-generator/saved_model.pb\n",
      "001-generator/variables/\n",
      "001-generator/variables/variables.data-00000-of-00002\n",
      "001-generator/variables/variables.index\n",
      "001-generator/variables/variables.data-00001-of-00002\n"
     ]
    },
    {
     "data": {
      "image/png": "[encoded data removed]",
      "text/plain": [
       "<Figure size 432x288 with 1 Axes>"
      ]
     },
     "metadata": {
      "needs_background": "light"
     },
     "output_type": "display_data"
    }
   ],
   "source": [
    "model_data_path=tf_estimator.model_data\n",
    "!aws s3 cp $model_data_path .\n",
    "!mkdir -p model_output && tar xvf model.tar.gz -C model_output\n",
    "saved_generator_model = tf.saved_model.load(\"./model_output/001-generator\", tags=None)\n",
    "show_first_image_in_batch(saved_generator_model)"
   ]
  }
 ],
 "metadata": {
  "kernelspec": {
   "display_name": "conda_amazonei_tensorflow2_p36",
   "language": "python",
   "name": "conda_amazonei_tensorflow2_p36"
  },
  "language_info": {
   "codemirror_mode": {
    "name": "ipython",
    "version": 3
   },
   "file_extension": ".py",
   "mimetype": "text/x-python",
   "name": "python",
   "nbconvert_exporter": "python",
   "pygments_lexer": "ipython3",
   "version": "3.6.10"
  }
 },
 "nbformat": 4,
 "nbformat_minor": 4
}
